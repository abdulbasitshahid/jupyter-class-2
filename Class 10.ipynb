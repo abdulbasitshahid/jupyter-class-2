{
 "cells": [
  {
   "cell_type": "code",
   "execution_count": 2,
   "metadata": {},
   "outputs": [],
   "source": [
    "import csv"
   ]
  },
  {
   "cell_type": "code",
   "execution_count": 3,
   "metadata": {},
   "outputs": [
    {
     "name": "stdout",
     "output_type": "stream",
     "text": [
      "Name\n",
      "Cnic Number\n",
      "abdul basit\n",
      "111111\n",
      "abdul samad\n",
      "23132\n",
      "abdul wajid\n",
      "3333\n",
      "\n",
      "\n"
     ]
    }
   ],
   "source": [
    "with open('cnic.csv') as f:\n",
    "    x= csv.reader(f)\n",
    "    for i in x:\n",
    "        for b in i:\n",
    "            print (b)"
   ]
  },
  {
   "cell_type": "code",
   "execution_count": 5,
   "metadata": {},
   "outputs": [
    {
     "ename": "AttributeError",
     "evalue": "module 'csv' has no attribute 'write'",
     "output_type": "error",
     "traceback": [
      "\u001b[1;31m---------------------------------------------------------------------------\u001b[0m",
      "\u001b[1;31mAttributeError\u001b[0m                            Traceback (most recent call last)",
      "\u001b[1;32m<ipython-input-5-d562392e9bb1>\u001b[0m in \u001b[0;36m<module>\u001b[1;34m\u001b[0m\n\u001b[0;32m      1\u001b[0m \u001b[1;32mwith\u001b[0m \u001b[0mopen\u001b[0m\u001b[1;33m(\u001b[0m\u001b[1;34m'cnic.csv'\u001b[0m\u001b[1;33m)\u001b[0m \u001b[1;32mas\u001b[0m \u001b[0mf\u001b[0m\u001b[1;33m:\u001b[0m\u001b[1;33m\u001b[0m\u001b[1;33m\u001b[0m\u001b[0m\n\u001b[1;32m----> 2\u001b[1;33m     \u001b[0mcsv\u001b[0m\u001b[1;33m.\u001b[0m\u001b[0mwrite\u001b[0m\u001b[1;33m(\u001b[0m\u001b[1;34m'a'\u001b[0m\u001b[1;33m)\u001b[0m\u001b[1;33m\u001b[0m\u001b[1;33m\u001b[0m\u001b[0m\n\u001b[0m\u001b[0;32m      3\u001b[0m \u001b[1;33m\u001b[0m\u001b[0m\n",
      "\u001b[1;31mAttributeError\u001b[0m: module 'csv' has no attribute 'write'"
     ]
    }
   ],
   "source": []
  },
  {
   "cell_type": "code",
   "execution_count": 4,
   "metadata": {},
   "outputs": [
    {
     "name": "stdout",
     "output_type": "stream",
     "text": [
      "you have nice y/n :y\n",
      "Enter your name :samad\n",
      "you have not name in list\n",
      "you have not name in list\n",
      "you have not name in list\n",
      "you have not name in list\n",
      "you have not name in list\n",
      "you have not name in list\n",
      "you have not name in list\n",
      "you have not name in list\n",
      "you have not name in list\n",
      "you have not name in list\n"
     ]
    }
   ],
   "source": [
    "a= True \n",
    "while a:\n",
    "    person= input ('you have nice y/n :').lower()\n",
    "    if person =='y':\n",
    "        name = input ('Enter your name :').lower()\n",
    "        with open('cnic.csv') as f:\n",
    "            x= csv.reader(f)\n",
    "            for i in x:\n",
    "                for b in i: \n",
    "                    while name == b:\n",
    "                        print (\"you are cast vote\")\n",
    "                        break\n",
    "    else:\n",
    "        print ('you have not name in list')\n",
    "        a = False "
   ]
  },
  {
   "cell_type": "code",
   "execution_count": null,
   "metadata": {},
   "outputs": [],
   "source": []
  },
  {
   "cell_type": "code",
   "execution_count": null,
   "metadata": {},
   "outputs": [],
   "source": []
  },
  {
   "cell_type": "code",
   "execution_count": null,
   "metadata": {},
   "outputs": [],
   "source": []
  },
  {
   "cell_type": "code",
   "execution_count": null,
   "metadata": {},
   "outputs": [],
   "source": []
  },
  {
   "cell_type": "code",
   "execution_count": 1,
   "metadata": {},
   "outputs": [],
   "source": [
    "import json"
   ]
  },
  {
   "cell_type": "code",
   "execution_count": 7,
   "metadata": {},
   "outputs": [],
   "source": [
    "alphabet_letter = ['a','b','c']\n",
    "with open (\"alphabet_list.json\",\"w\") as f:\n",
    "    json.dump(alphabet_letter, f)\n",
    "\n"
   ]
  },
  {
   "cell_type": "code",
   "execution_count": 8,
   "metadata": {},
   "outputs": [
    {
     "name": "stdout",
     "output_type": "stream",
     "text": [
      "['a', 'b', 'c']\n",
      "a\n",
      "b\n",
      "c\n"
     ]
    }
   ],
   "source": [
    "with open (\"alphabet_list.json\") as f:\n",
    "    x= json.load(f)\n",
    "    print (x)\n",
    "    for i in x:\n",
    "        print (i)"
   ]
  },
  {
   "cell_type": "code",
   "execution_count": null,
   "metadata": {},
   "outputs": [],
   "source": [
    "a={'name':'abasit','rollnum':334,'cellno':1345888}\n",
    "\n",
    "with open (\"dictionary_list.json\",\"w\") as f:\n",
    "    json.dump(a, f)\n"
   ]
  },
  {
   "cell_type": "code",
   "execution_count": null,
   "metadata": {},
   "outputs": [],
   "source": [
    "with open (\"dictionary_list.json\") as f:\n",
    "    x= json.load(f)\n",
    "    print (x)\n",
    "    for k,v in x.items():\n",
    "        print (k, v)"
   ]
  },
  {
   "cell_type": "code",
   "execution_count": null,
   "metadata": {},
   "outputs": [],
   "source": [
    "a={}\n",
    "b = True \n",
    "while b:\n",
    "    c= input ('you have dictionary  y/n')\n",
    "    for k,v in a.items():\n",
    "        k= input ('Enter key in dictionary ')\n",
    "        v= input ('Enter vlaue in dictionary ')\n",
    "        break \n",
    "    if c=='n':\n",
    "        b= False \n",
    "    \n",
    "    "
   ]
  },
  {
   "cell_type": "code",
   "execution_count": null,
   "metadata": {},
   "outputs": [],
   "source": [
    "print (a)\n"
   ]
  },
  {
   "cell_type": "code",
   "execution_count": null,
   "metadata": {},
   "outputs": [],
   "source": [
    "n_list = [1,2,3,4]\n",
    "empty_list = []\n",
    "for n in n_list:\n",
    "    empty_list.append(n ** 2)\n",
    "    \n",
    "print (empty_list)"
   ]
  },
  {
   "cell_type": "markdown",
   "metadata": {},
   "source": [
    "# list comprehensive "
   ]
  },
  {
   "cell_type": "code",
   "execution_count": 9,
   "metadata": {},
   "outputs": [
    {
     "name": "stdout",
     "output_type": "stream",
     "text": [
      "[1, 4, 16, 25]\n"
     ]
    }
   ],
   "source": [
    "a= [i ** 2 for i in [1,2,4,5]]\n",
    "print (a)"
   ]
  },
  {
   "cell_type": "code",
   "execution_count": 10,
   "metadata": {},
   "outputs": [
    {
     "name": "stdout",
     "output_type": "stream",
     "text": [
      "['name', 'age']\n"
     ]
    }
   ],
   "source": [
    "person = {'name':'basit','age':20}\n",
    "a=[ k for k in person.keys()]\n",
    "print (a)"
   ]
  },
  {
   "cell_type": "code",
   "execution_count": 11,
   "metadata": {},
   "outputs": [
    {
     "name": "stdout",
     "output_type": "stream",
     "text": [
      "[0.0, 0.2, 0.4, 0.6, 0.8, 1.0, 1.2, 1.4, 1.6, 1.8]\n"
     ]
    }
   ],
   "source": [
    "num =[i/5 for i in range(10)]\n",
    "print (num)"
   ]
  },
  {
   "cell_type": "code",
   "execution_count": 12,
   "metadata": {
    "scrolled": true
   },
   "outputs": [
    {
     "name": "stdout",
     "output_type": "stream",
     "text": [
      "[0, 2, 4, 6, 8]\n"
     ]
    }
   ],
   "source": [
    "num =[i for i in range(10) if i%2==0 ]\n",
    "print (num)"
   ]
  },
  {
   "cell_type": "code",
   "execution_count": null,
   "metadata": {},
   "outputs": [],
   "source": [
    "num =[i for i in range(10) if i%2!=0 ]\n",
    "print (num)"
   ]
  },
  {
   "cell_type": "code",
   "execution_count": null,
   "metadata": {},
   "outputs": [],
   "source": [
    "w= 'hello'\n",
    "v=('a','e','i','o','u')\n",
    "y=[x for x in v if x in w]\n",
    "print (y)"
   ]
  },
  {
   "cell_type": "code",
   "execution_count": null,
   "metadata": {},
   "outputs": [],
   "source": [
    "q=[j for i in range(2,8) for j in range(i*2,50,i )]\n",
    "\n",
    "print (q)"
   ]
  },
  {
   "cell_type": "code",
   "execution_count": null,
   "metadata": {},
   "outputs": [],
   "source": [
    "num = []\n",
    "num.append()\n",
    "\n"
   ]
  },
  {
   "cell_type": "code",
   "execution_count": null,
   "metadata": {},
   "outputs": [],
   "source": [
    "num1=['basit','shahid','samad','talha']\n",
    "num2= num1\n",
    "num3= num1[:]\n",
    "\n",
    "num2[0]='Alice'\n",
    "num3[1]='Bob'\n",
    "sum= 0\n",
    "for a in (num1,num2,num3):\n",
    "    if a[0]=='Alice':\n",
    "        sum+=1\n",
    "        if a[1]=='Bob':\n",
    "            sum+=10\n",
    "print (sum)\n",
    "        \n",
    "        \n"
   ]
  },
  {
   "cell_type": "code",
   "execution_count": null,
   "metadata": {},
   "outputs": [],
   "source": [
    "num1 = ['Amir','bale','chairlie']\n",
    "num2= [name.lower() for name in num1]\n",
    "print (num2[2])"
   ]
  },
  {
   "cell_type": "markdown",
   "metadata": {},
   "source": [
    "# Module "
   ]
  },
  {
   "cell_type": "code",
   "execution_count": null,
   "metadata": {},
   "outputs": [],
   "source": [
    "print ('{0:.}'.format(1/3))"
   ]
  },
  {
   "cell_type": "code",
   "execution_count": null,
   "metadata": {},
   "outputs": [],
   "source": [
    "if (7<0) and (0<-7):\n",
    "    print ('x')\n",
    "elif (7>0) or False :\n",
    "    print ('d')\n",
    "else :\n",
    "    print ('t')"
   ]
  },
  {
   "cell_type": "code",
   "execution_count": 4,
   "metadata": {},
   "outputs": [
    {
     "name": "stdout",
     "output_type": "stream",
     "text": [
      "{'triggered_at': '2016-05-24T20:10:57.657259407Z', 'state': 'triggered', 'alert': {'id': 9, 'type': 'time_total', 'stat': 'avg', 'window_duration': 5, 'value': 2500, 'op': 'gt'}, 'check': {'id': 80, 'name': 'Axe Search', 'method': 'GET', 'protocol': 'http', 'url': 'www.axemusic.com/catalogsearch/result/?cat=0&q=sm58', 'apdex_threshold': 700}, 'value': 2724}\n",
      "triggered_at 2016-05-24T20:10:57.657259407Z\n",
      "state triggered\n",
      "alert {'id': 9, 'type': 'time_total', 'stat': 'avg', 'window_duration': 5, 'value': 2500, 'op': 'gt'}\n",
      "check {'id': 80, 'name': 'Axe Search', 'method': 'GET', 'protocol': 'http', 'url': 'www.axemusic.com/catalogsearch/result/?cat=0&q=sm58', 'apdex_threshold': 700}\n",
      "value 2724\n"
     ]
    }
   ],
   "source": [
    "with open (\"f.json\") as f:\n",
    "    x= json.load(f)\n",
    "    print (x)\n",
    "    for k,v in x.items():\n",
    "        print (k,v)"
   ]
  },
  {
   "cell_type": "code",
   "execution_count": null,
   "metadata": {},
   "outputs": [],
   "source": [
    "for k,v in myDic.items():# first key and secound value\n",
    "    print (k,v)\n",
    "    "
   ]
  }
 ],
 "metadata": {
  "kernelspec": {
   "display_name": "Python 3",
   "language": "python",
   "name": "python3"
  },
  "language_info": {
   "codemirror_mode": {
    "name": "ipython",
    "version": 3
   },
   "file_extension": ".py",
   "mimetype": "text/x-python",
   "name": "python",
   "nbconvert_exporter": "python",
   "pygments_lexer": "ipython3",
   "version": "3.7.3"
  }
 },
 "nbformat": 4,
 "nbformat_minor": 2
}
