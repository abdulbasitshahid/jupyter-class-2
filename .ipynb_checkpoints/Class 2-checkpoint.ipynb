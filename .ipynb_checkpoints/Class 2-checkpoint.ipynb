{
 "cells": [
  {
   "cell_type": "code",
   "execution_count": 2,
   "metadata": {},
   "outputs": [
    {
     "name": "stdout",
     "output_type": "stream",
     "text": [
      "ABC"
     ]
    }
   ],
   "source": [
    "print ('A',end='')\n",
    "print ('B',end='')\n",
    "print ('C',end='')"
   ]
  },
  {
   "cell_type": "code",
   "execution_count": 3,
   "metadata": {},
   "outputs": [
    {
     "name": "stdout",
     "output_type": "stream",
     "text": [
      "A\n",
      "B\n",
      "C\n"
     ]
    }
   ],
   "source": [
    "print ('A')\n",
    "print ('B')\n",
    "print ('C')"
   ]
  },
  {
   "cell_type": "code",
   "execution_count": 5,
   "metadata": {},
   "outputs": [
    {
     "name": "stdout",
     "output_type": "stream",
     "text": [
      "My name is ABasit and my age is 19\n"
     ]
    }
   ],
   "source": [
    "age = 19\n",
    "name = 'ABasit'\n",
    "print ('My name is '+ name + ' and my age is '+ str (age)) #type casting"
   ]
  },
  {
   "cell_type": "code",
   "execution_count": 6,
   "metadata": {},
   "outputs": [
    {
     "name": "stdout",
     "output_type": "stream",
     "text": [
      "enter your age19\n",
      "enter your nameABasit\n",
      "My name is ABasit and my age is 19\n"
     ]
    }
   ],
   "source": [
    "age = int (input ('enter your age '))\n",
    "name = input ('Enter your name ')\n",
    "print ('My name is '+ name + ' and my age is '+ str (age)) "
   ]
  },
  {
   "cell_type": "markdown",
   "metadata": {},
   "source": [
    "# string formating using python's .formating "
   ]
  },
  {
   "cell_type": "code",
   "execution_count": 8,
   "metadata": {},
   "outputs": [
    {
     "name": "stdout",
     "output_type": "stream",
     "text": [
      "enter your age 19\n",
      "Enter your name B\n",
      "my name is B and may age is 19 \n"
     ]
    }
   ],
   "source": [
    "age = input ('enter your age ')\n",
    "name = input ('Enter your name ')\n",
    "print ('my name is {} and may age is {} '.format(name ,age))"
   ]
  },
  {
   "cell_type": "code",
   "execution_count": 9,
   "metadata": {},
   "outputs": [
    {
     "name": "stdout",
     "output_type": "stream",
     "text": [
      "enter your age 19\n",
      "Enter your name Basit\n",
      "my name is 19 and may age is Basit \n"
     ]
    }
   ],
   "source": [
    "age = input ('enter your age ')\n",
    "name = input ('Enter your name ')\n",
    "print ('my name is {1} and may age is {0} '.format(name ,age))"
   ]
  },
  {
   "cell_type": "markdown",
   "metadata": {},
   "source": [
    "# string formating using python's f"
   ]
  },
  {
   "cell_type": "code",
   "execution_count": 11,
   "metadata": {},
   "outputs": [
    {
     "name": "stdout",
     "output_type": "stream",
     "text": [
      "my name is Basit and may age is 19 \n"
     ]
    }
   ],
   "source": [
    "print (f'my name is {name} and may age is {age} ')"
   ]
  },
  {
   "cell_type": "markdown",
   "metadata": {},
   "source": [
    "# math expressions "
   ]
  },
  {
   "cell_type": "code",
   "execution_count": 12,
   "metadata": {},
   "outputs": [
    {
     "name": "stdout",
     "output_type": "stream",
     "text": [
      "3.3333333333333335\n",
      "3\n"
     ]
    }
   ],
   "source": [
    "print (10/3)\n",
    "print (10//3)"
   ]
  },
  {
   "cell_type": "code",
   "execution_count": 16,
   "metadata": {},
   "outputs": [
    {
     "data": {
      "text/plain": [
       "4"
      ]
     },
     "execution_count": 16,
     "metadata": {},
     "output_type": "execute_result"
    }
   ],
   "source": [
    "2**2"
   ]
  },
  {
   "cell_type": "code",
   "execution_count": 18,
   "metadata": {},
   "outputs": [
    {
     "data": {
      "text/plain": [
       "True"
      ]
     },
     "execution_count": 18,
     "metadata": {},
     "output_type": "execute_result"
    }
   ],
   "source": [
    "12>2"
   ]
  },
  {
   "cell_type": "code",
   "execution_count": 20,
   "metadata": {},
   "outputs": [
    {
     "data": {
      "text/plain": [
       "True"
      ]
     },
     "execution_count": 20,
     "metadata": {},
     "output_type": "execute_result"
    }
   ],
   "source": [
    "10==10"
   ]
  },
  {
   "cell_type": "code",
   "execution_count": 21,
   "metadata": {
    "scrolled": true
   },
   "outputs": [
    {
     "data": {
      "text/plain": [
       "False"
      ]
     },
     "execution_count": 21,
     "metadata": {},
     "output_type": "execute_result"
    }
   ],
   "source": [
    "10!=10"
   ]
  },
  {
   "cell_type": "code",
   "execution_count": null,
   "metadata": {},
   "outputs": [],
   "source": [
    "num1 = input ('Enter a number1 :')\n",
    "num2 = input ('Enter a number2 :')\n",
    "if num1 > num2 :\n",
    "    print ('num1 is greater then num2')\n",
    "else :\n",
    "    print ('num1 is less then num2')"
   ]
  },
  {
   "cell_type": "code",
   "execution_count": null,
   "metadata": {},
   "outputs": [],
   "source": [
    "num1 = input ('Enter a number1' )\n",
    "if num1 % 2:\n",
    "    print ('number is even')\n",
    "else:\n",
    "    print ('odd')"
   ]
  },
  {
   "cell_type": "code",
   "execution_count": null,
   "metadata": {},
   "outputs": [],
   "source": [
    "10"
   ]
  },
  {
   "cell_type": "code",
   "execution_count": null,
   "metadata": {},
   "outputs": [],
   "source": [
    "num1 = input ('Enter a number1' )\n",
    "if num1 % 2:\n",
    "    print ('number is even')\n",
    "else:\n",
    "    print ('odd')"
   ]
  },
  {
   "cell_type": "code",
   "execution_count": null,
   "metadata": {},
   "outputs": [],
   "source": []
  },
  {
   "cell_type": "code",
   "execution_count": 6,
   "metadata": {},
   "outputs": [
    {
     "name": "stdout",
     "output_type": "stream",
     "text": [
      "Enter a number  : 5\n",
      "number is odd\n"
     ]
    }
   ],
   "source": [
    "num1 = int (input ('Enter a number  : ' ))\n",
    "if num1 % 2:\n",
    "    print ('number is odd')\n",
    "else:\n",
    "    print ('even')"
   ]
  },
  {
   "cell_type": "code",
   "execution_count": null,
   "metadata": {},
   "outputs": [],
   "source": [
    "age = int (input ('Enter your age : '))\n",
    "ticket = input ('Do you have valid ticket' )\n",
    "if age >=18:\n",
    "    print ('age is valid')\n",
    "    if ticket =='yes':\n",
    "        print ('ticket ok')\n",
    "        print ('you can enter ')\n",
    "else :\n",
    "    print ('you can enter')"
   ]
  },
  {
   "cell_type": "code",
   "execution_count": null,
   "metadata": {},
   "outputs": [],
   "source": [
    "name = input ('your name in list ')\n",
    "\n",
    "if name == 'yes':\n",
    "    print ('ok')\n",
    "    id_card = input ('you have nic ')\n",
    "    if id_card =='yes':\n",
    "        print ('then you can cast your vote')\n",
    "    else :\n",
    "        print ('you cannot cast your vote')\n",
    "else :\n",
    "    print (' you cannot cast your vote')\n",
    "    \n"
   ]
  },
  {
   "cell_type": "code",
   "execution_count": 3,
   "metadata": {},
   "outputs": [
    {
     "name": "stdout",
     "output_type": "stream",
     "text": [
      "Your Name In List (Yes/No) Yes\n",
      "Ok\n",
      "You have ID-Card (Yes/No) No\n",
      "You cannot cast your vote\n"
     ]
    }
   ],
   "source": [
    "name = input ('Your Name In List (Yes/No) ')\n",
    "if name == 'Yes':\n",
    "    print ('Ok')\n",
    "    id_card = input ('You have ID-Card (Yes/No) ')\n",
    "    if id_card =='Yes':\n",
    "        print ('then you can cast your vote')\n",
    "    else :\n",
    "        print ('You cannot cast your vote')\n",
    "else :\n",
    "    print ('You cannot cast your vote')\n",
    "    \n"
   ]
  },
  {
   "cell_type": "code",
   "execution_count": null,
   "metadata": {},
   "outputs": [],
   "source": [
    "value = input ('do you have experience for this job ')\n",
    "if exp=='yes':\n",
    "    print ('you are selected')"
   ]
  }
 ],
 "metadata": {
  "kernelspec": {
   "display_name": "Python 3",
   "language": "python",
   "name": "python3"
  },
  "language_info": {
   "codemirror_mode": {
    "name": "ipython",
    "version": 3
   },
   "file_extension": ".py",
   "mimetype": "text/x-python",
   "name": "python",
   "nbconvert_exporter": "python",
   "pygments_lexer": "ipython3",
   "version": "3.7.2"
  }
 },
 "nbformat": 4,
 "nbformat_minor": 2
}
