{
 "cells": [
  {
   "cell_type": "code",
   "execution_count": 2,
   "metadata": {},
   "outputs": [
    {
     "name": "stdout",
     "output_type": "stream",
     "text": [
      "hello\n",
      "hi\n",
      "yes\n"
     ]
    }
   ],
   "source": [
    "a=b=c=d=10\n",
    "if  a<=b:\n",
    "    print ('hello')\n",
    "if b>=c:\n",
    "    print ('hi')\n",
    "if c==d:\n",
    "    print ('yes')"
   ]
  },
  {
   "cell_type": "code",
   "execution_count": 9,
   "metadata": {
    "scrolled": false
   },
   "outputs": [
    {
     "name": "stdout",
     "output_type": "stream",
     "text": [
      "hello\n",
      "hi\n",
      "yes\n"
     ]
    }
   ],
   "source": [
    "#nested if's\n",
    "a=b=c=d=10\n",
    "if  a<=b:\n",
    "    print ('hello')\n",
    "    if b>=c:\n",
    "        print ('hi')\n",
    "        if c==d:\n",
    "            print ('yes')"
   ]
  },
  {
   "cell_type": "code",
   "execution_count": 12,
   "metadata": {},
   "outputs": [
    {
     "name": "stdout",
     "output_type": "stream",
     "text": [
      "Do you have cnice : No\n",
      "you can not caste vote\n"
     ]
    }
   ],
   "source": [
    "cnic_status = input ('Do you have cnice : ')\n",
    "if cnic_status == 'yes' :\n",
    "    print ('come inside ')\n",
    "    name_in_list = input ('is your name in voter list')\n",
    "    if name_in_list == 'yes' :\n",
    "        print ('you can caste vote ')\n",
    "    else :\n",
    "        print ('you can not caste vote ')\n",
    "else : \n",
    "    print ('you can not caste vote')\n"
   ]
  },
  {
   "cell_type": "code",
   "execution_count": 14,
   "metadata": {},
   "outputs": [
    {
     "name": "stdout",
     "output_type": "stream",
     "text": [
      "Do you have cnice : Yes\n",
      "is your name in voter listYes\n",
      "you can caste vote\n"
     ]
    }
   ],
   "source": [
    "cnic_status = input ('Do you have cnice : ').lower ()\n",
    "name_in_list = input ('is your name in voter list').lower ()\n",
    "if ((cnic_status == 'yes' ) and (name_in_list == 'yes')):\n",
    "    print ('you can caste vote')\n",
    "else : \n",
    "    print ('you can not caste vote')\n"
   ]
  },
  {
   "cell_type": "markdown",
   "metadata": {},
   "source": [
    "# elif"
   ]
  },
  {
   "cell_type": "code",
   "execution_count": 2,
   "metadata": {},
   "outputs": [
    {
     "name": "stdout",
     "output_type": "stream",
     "text": [
      "enter your marks60\n",
      "your grade is C\n"
     ]
    }
   ],
   "source": [
    "marks = int(input (\"enter your marks\"))\n",
    "\n",
    "if marks >= 90:\n",
    "        grade = \"A-1\"\n",
    "elif marks >=80:\n",
    "        grade = \"A\"\n",
    "elif marks >=70:\n",
    "        grade = \"B\"\n",
    "elif marks >=60:\n",
    "        grade = \"C\"\n",
    "elif marks >=50:\n",
    "        grade = \"D\"\n",
    "elif marks < 50:\n",
    "        grade = \"f\"\n",
    "else :\n",
    "        print ('sorry you are not pass')\n",
    "\n",
    "print (\"your grade is \"+ grade)"
   ]
  },
  {
   "cell_type": "code",
   "execution_count": 26,
   "metadata": {},
   "outputs": [
    {
     "name": "stdout",
     "output_type": "stream",
     "text": [
      "Enter a characterD\n",
      "the character is constant\n"
     ]
    }
   ],
   "source": [
    "\n",
    "nam = input ('Enter a character').lower()\n",
    "if ((nam == 'a') or (nam =='e') or (nam =='i') or (nam == 'o')  or (nam == 'e') ):\n",
    "    print (\"the character is vowel\")\n",
    "else :\n",
    "    print (\"the character is constant\")\n"
   ]
  },
  {
   "cell_type": "markdown",
   "metadata": {},
   "source": [
    "# LIST"
   ]
  },
  {
   "cell_type": "code",
   "execution_count": 39,
   "metadata": {},
   "outputs": [
    {
     "data": {
      "text/plain": [
       "4"
      ]
     },
     "execution_count": 39,
     "metadata": {},
     "output_type": "execute_result"
    }
   ],
   "source": [
    "alist= ['Abasit', 'wajahat', 'saad' ,'talha' ]\n",
    "len(alist)\n"
   ]
  },
  {
   "cell_type": "code",
   "execution_count": 41,
   "metadata": {},
   "outputs": [
    {
     "data": {
      "text/plain": [
       "4"
      ]
     },
     "execution_count": 41,
     "metadata": {},
     "output_type": "execute_result"
    }
   ],
   "source": [
    "list2=[\"abasit\", 123 , False ,123.5]\n",
    "len (list2)"
   ]
  },
  {
   "cell_type": "code",
   "execution_count": 42,
   "metadata": {},
   "outputs": [
    {
     "data": {
      "text/plain": [
       "'talha'"
      ]
     },
     "execution_count": 42,
     "metadata": {},
     "output_type": "execute_result"
    }
   ],
   "source": [
    "alist [3]"
   ]
  },
  {
   "cell_type": "code",
   "execution_count": 43,
   "metadata": {},
   "outputs": [
    {
     "data": {
      "text/plain": [
       "'Abasit'"
      ]
     },
     "execution_count": 43,
     "metadata": {},
     "output_type": "execute_result"
    }
   ],
   "source": [
    "alist [0]"
   ]
  },
  {
   "cell_type": "code",
   "execution_count": 44,
   "metadata": {},
   "outputs": [
    {
     "data": {
      "text/plain": [
       "'saad'"
      ]
     },
     "execution_count": 44,
     "metadata": {},
     "output_type": "execute_result"
    }
   ],
   "source": [
    "alist [2]"
   ]
  },
  {
   "cell_type": "code",
   "execution_count": 45,
   "metadata": {},
   "outputs": [
    {
     "data": {
      "text/plain": [
       "123"
      ]
     },
     "execution_count": 45,
     "metadata": {},
     "output_type": "execute_result"
    }
   ],
   "source": [
    "list2 [1]"
   ]
  },
  {
   "cell_type": "code",
   "execution_count": 48,
   "metadata": {},
   "outputs": [
    {
     "data": {
      "text/plain": [
       "['orange', 123, False, 123.5]"
      ]
     },
     "execution_count": 48,
     "metadata": {},
     "output_type": "execute_result"
    }
   ],
   "source": [
    "list2 [0]= \"orange\"\n",
    "list2"
   ]
  },
  {
   "cell_type": "code",
   "execution_count": 50,
   "metadata": {},
   "outputs": [
    {
     "data": {
      "text/plain": [
       "['orange', 123]"
      ]
     },
     "execution_count": 50,
     "metadata": {},
     "output_type": "execute_result"
    }
   ],
   "source": [
    "del list2 [2]\n",
    "list2"
   ]
  },
  {
   "cell_type": "code",
   "execution_count": 52,
   "metadata": {},
   "outputs": [
    {
     "data": {
      "text/plain": [
       "['orange', 123, 1000]"
      ]
     },
     "execution_count": 52,
     "metadata": {},
     "output_type": "execute_result"
    }
   ],
   "source": [
    "list2.append (1000)\n",
    "list2"
   ]
  },
  {
   "cell_type": "code",
   "execution_count": 59,
   "metadata": {},
   "outputs": [
    {
     "data": {
      "text/plain": [
       "['orange',\n",
       " 'abasit',\n",
       " 'abasit',\n",
       " 'abasit',\n",
       " 'abasit',\n",
       " 'abasit',\n",
       " 'abasit',\n",
       " 'abasit',\n",
       " 123,\n",
       " 1000]"
      ]
     },
     "execution_count": 59,
     "metadata": {},
     "output_type": "execute_result"
    }
   ],
   "source": [
    "list2.insert (1,\"abasit\")\n",
    "list2"
   ]
  },
  {
   "cell_type": "code",
   "execution_count": 69,
   "metadata": {},
   "outputs": [
    {
     "data": {
      "text/plain": [
       "['orange', 'abasit', 123, 1000]"
      ]
     },
     "execution_count": 69,
     "metadata": {},
     "output_type": "execute_result"
    }
   ],
   "source": [
    "del list2 [2]\n",
    "list2\n"
   ]
  },
  {
   "cell_type": "code",
   "execution_count": 13,
   "metadata": {},
   "outputs": [
    {
     "data": {
      "text/plain": [
       "['apple', 'mango', 'pineapple', 'watermalon', 'banana']"
      ]
     },
     "execution_count": 13,
     "metadata": {},
     "output_type": "execute_result"
    }
   ],
   "source": [
    "list1=['apple' , 'mango' ,'banana' , 'watermalon']\n",
    "len (list1)\n",
    "list1\n",
    "del list1 [2]\n",
    "list1\n",
    "list1.append ('banana')\n",
    "list1\n",
    "list1.insert (2 , 'pineapple' ) \n",
    "list1"
   ]
  }
 ],
 "metadata": {
  "kernelspec": {
   "display_name": "Python 3",
   "language": "python",
   "name": "python3"
  },
  "language_info": {
   "codemirror_mode": {
    "name": "ipython",
    "version": 3
   },
   "file_extension": ".py",
   "mimetype": "text/x-python",
   "name": "python",
   "nbconvert_exporter": "python",
   "pygments_lexer": "ipython3",
   "version": "3.7.2"
  }
 },
 "nbformat": 4,
 "nbformat_minor": 2
}
