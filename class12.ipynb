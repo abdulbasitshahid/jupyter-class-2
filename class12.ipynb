{
 "cells": [
  {
   "cell_type": "code",
   "execution_count": null,
   "metadata": {},
   "outputs": [],
   "source": [
    "n=5+4*5*12"
   ]
  },
  {
   "cell_type": "code",
   "execution_count": null,
   "metadata": {},
   "outputs": [],
   "source": [
    "n"
   ]
  },
  {
   "cell_type": "code",
   "execution_count": null,
   "metadata": {},
   "outputs": [],
   "source": [
    "guest = ['a','b','c','d']\n",
    "for i in guest :\n",
    "    print (i+' welcome to my new home')"
   ]
  },
  {
   "cell_type": "code",
   "execution_count": null,
   "metadata": {},
   "outputs": [],
   "source": [
    "for seq:\n",
    "    for seq:\n",
    "        "
   ]
  },
  {
   "cell_type": "code",
   "execution_count": null,
   "metadata": {},
   "outputs": [],
   "source": [
    "for i in range(5):\n",
    "    for name in ['a','b','c']:\n",
    "        print (f'{i}=={name} ')"
   ]
  },
  {
   "cell_type": "code",
   "execution_count": null,
   "metadata": {},
   "outputs": [],
   "source": [
    "[i.upper() for i in guest]"
   ]
  },
  {
   "cell_type": "code",
   "execution_count": null,
   "metadata": {},
   "outputs": [],
   "source": [
    "info ={'name':'basit' ,'age':19, 'hight':6}\n"
   ]
  },
  {
   "cell_type": "code",
   "execution_count": null,
   "metadata": {},
   "outputs": [],
   "source": [
    "info ['name']"
   ]
  },
  {
   "cell_type": "code",
   "execution_count": null,
   "metadata": {},
   "outputs": [],
   "source": [
    "for k,v in info.items():\n",
    "    print (k,v)"
   ]
  },
  {
   "cell_type": "code",
   "execution_count": null,
   "metadata": {},
   "outputs": [],
   "source": [
    "info ={'name':'basit' ,'age':19, 'hight':6 ,'guest' :['a','b','c','d'] }"
   ]
  },
  {
   "cell_type": "code",
   "execution_count": null,
   "metadata": {},
   "outputs": [],
   "source": [
    "info ['guest'][2]"
   ]
  },
  {
   "cell_type": "code",
   "execution_count": null,
   "metadata": {},
   "outputs": [],
   "source": [
    "info ={'name':'basit' ,'age':19, 'hight':6 ,'guest' :['a','b','c','d'],'test':{'pyton1':70,'pyton2':90,'pyton3':[95,67,88]} }"
   ]
  },
  {
   "cell_type": "code",
   "execution_count": null,
   "metadata": {},
   "outputs": [],
   "source": [
    "info['test']['pyton3'][2]"
   ]
  },
  {
   "cell_type": "code",
   "execution_count": null,
   "metadata": {},
   "outputs": [],
   "source": [
    "a=1,2,3"
   ]
  },
  {
   "cell_type": "code",
   "execution_count": null,
   "metadata": {},
   "outputs": [],
   "source": [
    "x,y,z=a"
   ]
  },
  {
   "cell_type": "code",
   "execution_count": null,
   "metadata": {},
   "outputs": [],
   "source": [
    "x"
   ]
  },
  {
   "cell_type": "code",
   "execution_count": null,
   "metadata": {},
   "outputs": [],
   "source": [
    "def add(x,y):\n",
    "    a=x+y\n",
    "    return a"
   ]
  },
  {
   "cell_type": "code",
   "execution_count": null,
   "metadata": {},
   "outputs": [],
   "source": [
    "myvalue= add(4,7)"
   ]
  },
  {
   "cell_type": "code",
   "execution_count": null,
   "metadata": {},
   "outputs": [],
   "source": [
    "myvalue"
   ]
  },
  {
   "cell_type": "code",
   "execution_count": null,
   "metadata": {},
   "outputs": [],
   "source": [
    "def full_name (f_name ,l_name):\n",
    "    print (f'yor full name is {f_name} {l_name}')"
   ]
  },
  {
   "cell_type": "code",
   "execution_count": null,
   "metadata": {},
   "outputs": [],
   "source": [
    "full_name (f_name='abdul',l_name='basit')"
   ]
  },
  {
   "cell_type": "code",
   "execution_count": null,
   "metadata": {},
   "outputs": [],
   "source": [
    "def full_name (f_name ,l_name,m_name=''):\n",
    "    print (f'yor full name is {f_name} {m_name} {l_name}')"
   ]
  },
  {
   "cell_type": "code",
   "execution_count": null,
   "metadata": {},
   "outputs": [],
   "source": [
    "full_name (f_name='abdul',l_name='basit')"
   ]
  },
  {
   "cell_type": "code",
   "execution_count": null,
   "metadata": {},
   "outputs": [],
   "source": [
    "full_name (f_name='abdul',l_name='shahid',m_name='basit')"
   ]
  },
  {
   "cell_type": "code",
   "execution_count": null,
   "metadata": {},
   "outputs": [],
   "source": [
    "food='biryani'\n",
    "def eatfood():\n",
    "    food='kunna'\n",
    "    print (food)"
   ]
  },
  {
   "cell_type": "code",
   "execution_count": null,
   "metadata": {},
   "outputs": [],
   "source": [
    "eatfood()"
   ]
  },
  {
   "cell_type": "code",
   "execution_count": null,
   "metadata": {},
   "outputs": [],
   "source": [
    "food\n"
   ]
  },
  {
   "cell_type": "code",
   "execution_count": null,
   "metadata": {},
   "outputs": [],
   "source": [
    "a=0\n",
    "while a <= 5:\n",
    "    print (a)\n",
    "    a+=1"
   ]
  },
  {
   "cell_type": "code",
   "execution_count": 2,
   "metadata": {},
   "outputs": [],
   "source": [
    "import csv"
   ]
  },
  {
   "cell_type": "code",
   "execution_count": 4,
   "metadata": {},
   "outputs": [
    {
     "name": "stdout",
     "output_type": "stream",
     "text": [
      "you have nice y/n :y\n",
      "Enter your age = 19\n",
      "Enter your name :abdul basit\n",
      "you have not name in list\n",
      "you have not name in list\n",
      "you are cast vote\n",
      "you have not name in list\n",
      "you have not name in list\n",
      "you have not name in list\n",
      "you have not name in list\n",
      "you have not name in list\n",
      "you have not name in list\n",
      "you have not name in list\n",
      "you have nice y/n :n\n",
      "you have not name in list\n"
     ]
    }
   ],
   "source": [
    "a= True \n",
    "while a:\n",
    "    person= input ('you have nice y/n :').lower()\n",
    "    if person =='y':\n",
    "        age =int ( input ('Enter your age = '))\n",
    "        if age > 18 :\n",
    "            name = input ('Enter your name :').lower()\n",
    "            with open('cnic.csv') as f:\n",
    "                x= csv.reader(f)\n",
    "                for i in x:\n",
    "                    for y in i :\n",
    "                        if name == y:\n",
    "                            print (\"you are cast vote\")\n",
    "                        elif name != y:\n",
    "                            print ('you have not name in list')\n",
    "        else:\n",
    "            print ('you are not alagable')\n",
    "            a = False \n",
    "    else:\n",
    "        print ('you have not name in list')\n",
    "        a = False "
   ]
  },
  {
   "cell_type": "code",
   "execution_count": null,
   "metadata": {},
   "outputs": [],
   "source": [
    "a= True \n",
    "while a:\n",
    "    b=['abdul basit','abdul samad','abdul wajid']\n",
    "    person= input ('you have nice y/n :').lower()\n",
    "    if person =='y' :\n",
    "        age =int ( input ('Enter your age = '))\n",
    "        if age > 18 :\n",
    "            name = input ('Enter your name :').lower()\n",
    "            for i in b:\n",
    "                if name==i:\n",
    "                    print (\"you are cast vote\")  \n",
    "            print ('you have not name in list')\n",
    "        else:\n",
    "            print ('you are not alagable')\n",
    "            a = False \n",
    "    else:\n",
    "        print ('you have not name in list')\n",
    "        a = False "
   ]
  },
  {
   "cell_type": "code",
   "execution_count": null,
   "metadata": {},
   "outputs": [],
   "source": []
  },
  {
   "cell_type": "code",
   "execution_count": null,
   "metadata": {},
   "outputs": [],
   "source": []
  },
  {
   "cell_type": "code",
   "execution_count": null,
   "metadata": {},
   "outputs": [],
   "source": []
  },
  {
   "cell_type": "code",
   "execution_count": null,
   "metadata": {},
   "outputs": [],
   "source": []
  },
  {
   "cell_type": "code",
   "execution_count": null,
   "metadata": {},
   "outputs": [],
   "source": []
  },
  {
   "cell_type": "code",
   "execution_count": null,
   "metadata": {},
   "outputs": [],
   "source": []
  }
 ],
 "metadata": {
  "kernelspec": {
   "display_name": "Python 3",
   "language": "python",
   "name": "python3"
  }
 },
 "nbformat": 4,
 "nbformat_minor": 2
}
