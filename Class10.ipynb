{
 "cells": [
  {
   "cell_type": "code",
   "execution_count": 7,
   "metadata": {},
   "outputs": [],
   "source": [
    "import csv"
   ]
  },
  {
   "cell_type": "code",
   "execution_count": 11,
   "metadata": {},
   "outputs": [
    {
     "name": "stdout",
     "output_type": "stream",
     "text": [
      "['year ', 'event ', 'winner', '']\n",
      "['1995', 'best_kep', 'none', '']\n",
      "['1996', 'lawn ', 'fill', '']\n",
      "['', '', '', '']\n",
      "['', '', '', '']\n",
      "['', '', '', '']\n",
      "['', '', '', '']\n",
      "['', '', '', '']\n"
     ]
    }
   ],
   "source": [
    "with open('ab.csv') as f:\n",
    "    x= csv.reader(f)\n",
    "    for i in x:\n",
    "        print (i)"
   ]
  },
  {
   "cell_type": "code",
   "execution_count": 13,
   "metadata": {},
   "outputs": [
    {
     "name": "stdout",
     "output_type": "stream",
     "text": [
      "you have nice y/n :y\n",
      "Enter your name :abdul basit\n",
      "you aren't cast vote\n",
      "you aren't cast vote\n",
      "you aren't cast vote\n",
      "you aren't cast vote\n",
      "you aren't cast vote\n",
      "you have nice y/n :n\n",
      "you have not name in list\n"
     ]
    }
   ],
   "source": [
    "a= True \n",
    "while a:\n",
    "    person= input ('you have nice y/n :').lower()\n",
    "    if person =='y':\n",
    "        name = input ('Enter your name :').lower()\n",
    "        with open('cnic.csv') as f:\n",
    "            x= csv.reader(f)\n",
    "            for i in x:\n",
    "                if i=='name':\n",
    "                    print (\"you are cast vote\")\n",
    "                else :\n",
    "                    print (\"you aren't cast vote\")\n",
    "    else:\n",
    "        print ('you have not name in list')\n",
    "        a = False "
   ]
  },
  {
   "cell_type": "code",
   "execution_count": null,
   "metadata": {},
   "outputs": [],
   "source": []
  },
  {
   "cell_type": "code",
   "execution_count": null,
   "metadata": {},
   "outputs": [],
   "source": []
  },
  {
   "cell_type": "code",
   "execution_count": null,
   "metadata": {},
   "outputs": [],
   "source": []
  },
  {
   "cell_type": "code",
   "execution_count": null,
   "metadata": {},
   "outputs": [],
   "source": []
  },
  {
   "cell_type": "code",
   "execution_count": 48,
   "metadata": {},
   "outputs": [],
   "source": [
    "import json"
   ]
  },
  {
   "cell_type": "code",
   "execution_count": 49,
   "metadata": {},
   "outputs": [],
   "source": [
    "alphabet_letter = ['a','b','c']\n",
    "with open (\"alphabet_list.json\",\"w\") as f:\n",
    "    json.dump(alphabet_letter, f)\n",
    "\n"
   ]
  },
  {
   "cell_type": "code",
   "execution_count": 51,
   "metadata": {},
   "outputs": [
    {
     "name": "stdout",
     "output_type": "stream",
     "text": [
      "['a', 'b', 'c']\n",
      "a\n",
      "b\n",
      "c\n"
     ]
    }
   ],
   "source": [
    "with open (\"alphabet_list.json\") as f:\n",
    "    x= json.load(f)\n",
    "    print (x)\n",
    "    for i in x:\n",
    "        print (i)"
   ]
  },
  {
   "cell_type": "code",
   "execution_count": 56,
   "metadata": {},
   "outputs": [],
   "source": [
    "a={'name':'abasit','rollnum':334,'cellno':1345888}\n",
    "\n",
    "with open (\"dictionary_list.json\",\"w\") as f:\n",
    "    json.dump(a, f)\n"
   ]
  },
  {
   "cell_type": "code",
   "execution_count": 60,
   "metadata": {},
   "outputs": [
    {
     "name": "stdout",
     "output_type": "stream",
     "text": [
      "{'name': 'abasit', 'rollnum': 334, 'cellno': 1345888}\n",
      "name abasit\n",
      "rollnum 334\n",
      "cellno 1345888\n"
     ]
    }
   ],
   "source": [
    "with open (\"dictionary_list.json\") as f:\n",
    "    x= json.load(f)\n",
    "    print (x)\n",
    "    for k,v in x.items():\n",
    "        print (k, v)"
   ]
  },
  {
   "cell_type": "code",
   "execution_count": 95,
   "metadata": {},
   "outputs": [
    {
     "name": "stdout",
     "output_type": "stream",
     "text": [
      "you have dictionary  y/nY\n",
      "Enter key in dictionary 'Name'\n",
      "Enter vlaue in dictionary 'Basit'\n",
      "you have dictionary  y/nY\n",
      "Enter key in dictionary 'Rollnum'\n",
      "Enter vlaue in dictionary 1245\n",
      "you have dictionary  y/nn\n",
      "Enter key in dictionary 'AGE'\n",
      "Enter vlaue in dictionary 30\n"
     ]
    }
   ],
   "source": [
    "a={}\n",
    "b = True \n",
    "while b:\n",
    "    c= input ('you have dictionary  y/n')\n",
    "    for k,v in a.items():\n",
    "        k= input ('Enter key in dictionary ')\n",
    "        v= input ('Enter vlaue in dictionary ')\n",
    "        break \n",
    "    if c=='n':\n",
    "        b= False \n",
    "    \n",
    "    "
   ]
  },
  {
   "cell_type": "code",
   "execution_count": 96,
   "metadata": {},
   "outputs": [
    {
     "name": "stdout",
     "output_type": "stream",
     "text": [
      "{'cellno': 1345888}\n"
     ]
    }
   ],
   "source": [
    "print (a)\n"
   ]
  },
  {
   "cell_type": "code",
   "execution_count": 67,
   "metadata": {},
   "outputs": [
    {
     "name": "stdout",
     "output_type": "stream",
     "text": [
      "[1, 4, 9, 16]\n"
     ]
    }
   ],
   "source": [
    "n_list = [1,2,3,4]\n",
    "empty_list = []\n",
    "for n in n_list:\n",
    "    empty_list.append(n ** 2)\n",
    "    \n",
    "print (empty_list)"
   ]
  },
  {
   "cell_type": "markdown",
   "metadata": {},
   "source": [
    "# list comprehensive "
   ]
  },
  {
   "cell_type": "code",
   "execution_count": 74,
   "metadata": {},
   "outputs": [
    {
     "name": "stdout",
     "output_type": "stream",
     "text": [
      "[1, 4, 16, 25]\n"
     ]
    }
   ],
   "source": [
    "a= [i ** 2 for i in [1,2,4,5]]\n",
    "print (a)"
   ]
  },
  {
   "cell_type": "code",
   "execution_count": 75,
   "metadata": {},
   "outputs": [
    {
     "name": "stdout",
     "output_type": "stream",
     "text": [
      "['name', 'age']\n"
     ]
    }
   ],
   "source": [
    "person = {'name':'basit','age':20}\n",
    "a=[ k for k in person.keys()]\n",
    "print (a)"
   ]
  },
  {
   "cell_type": "code",
   "execution_count": 94,
   "metadata": {},
   "outputs": [
    {
     "name": "stdout",
     "output_type": "stream",
     "text": [
      "[0.0, 0.2, 0.4, 0.6, 0.8, 1.0, 1.2, 1.4, 1.6, 1.8]\n"
     ]
    }
   ],
   "source": [
    "num =[i/5 for i in range(10)]\n",
    "print (num)"
   ]
  },
  {
   "cell_type": "code",
   "execution_count": 92,
   "metadata": {
    "scrolled": true
   },
   "outputs": [
    {
     "name": "stdout",
     "output_type": "stream",
     "text": [
      "[0, 2, 4, 6, 8]\n"
     ]
    }
   ],
   "source": [
    "num =[i for i in range(10) if i%2==0 ]\n",
    "print (num)"
   ]
  },
  {
   "cell_type": "code",
   "execution_count": 93,
   "metadata": {},
   "outputs": [
    {
     "name": "stdout",
     "output_type": "stream",
     "text": [
      "[1, 3, 5, 7, 9]\n"
     ]
    }
   ],
   "source": [
    "num =[i for i in range(10) if i%2!=0 ]\n",
    "print (num)"
   ]
  },
  {
   "cell_type": "code",
   "execution_count": 1,
   "metadata": {},
   "outputs": [
    {
     "name": "stdout",
     "output_type": "stream",
     "text": [
      "['e', 'o']\n"
     ]
    }
   ],
   "source": [
    "w= 'hello'\n",
    "v=('a','e','i','o','u')\n",
    "y=[x for x in v if x in w]\n",
    "print (y)"
   ]
  },
  {
   "cell_type": "code",
   "execution_count": 3,
   "metadata": {},
   "outputs": [
    {
     "name": "stdout",
     "output_type": "stream",
     "text": [
      "[4, 6, 8, 10, 12, 14, 16, 18, 20, 22, 24, 26, 28, 30, 32, 34, 36, 38, 40, 42, 44, 46, 48, 6, 9, 12, 15, 18, 21, 24, 27, 30, 33, 36, 39, 42, 45, 48, 8, 12, 16, 20, 24, 28, 32, 36, 40, 44, 48, 10, 15, 20, 25, 30, 35, 40, 45, 12, 18, 24, 30, 36, 42, 48, 14, 21, 28, 35, 42, 49]\n"
     ]
    }
   ],
   "source": [
    "q=[j for i in range(2,8) for j in range(i*2,50,i )]\n",
    "\n",
    "print (q)"
   ]
  },
  {
   "cell_type": "code",
   "execution_count": null,
   "metadata": {},
   "outputs": [],
   "source": [
    "num = []\n",
    "num.append()\n",
    "\n"
   ]
  },
  {
   "cell_type": "code",
   "execution_count": 30,
   "metadata": {},
   "outputs": [
    {
     "name": "stdout",
     "output_type": "stream",
     "text": [
      "2\n"
     ]
    }
   ],
   "source": [
    "num1=['basit','shahid','samad','talha']\n",
    "num2= num1\n",
    "num3= num1[:]\n",
    "\n",
    "num2[0]='Alice'\n",
    "num3[1]='Bob'\n",
    "sum= 0\n",
    "for a in (num1,num2,num3):\n",
    "    if a[0]=='Alice':\n",
    "        sum+=1\n",
    "        if a[1]=='Bob':\n",
    "            sum+=10\n",
    "print (sum)\n",
    "        \n",
    "        \n"
   ]
  },
  {
   "cell_type": "code",
   "execution_count": 33,
   "metadata": {},
   "outputs": [
    {
     "name": "stdout",
     "output_type": "stream",
     "text": [
      "chairlie\n"
     ]
    }
   ],
   "source": [
    "num1 = ['Amir','bale','chairlie']\n",
    "num2= [name.lower() for name in num1]\n",
    "print (num2[2])"
   ]
  },
  {
   "cell_type": "markdown",
   "metadata": {},
   "source": [
    "# Module "
   ]
  },
  {
   "cell_type": "code",
   "execution_count": 43,
   "metadata": {},
   "outputs": [
    {
     "name": "stdout",
     "output_type": "stream",
     "text": [
      "0.33\n"
     ]
    }
   ],
   "source": [
    "print ('{0:.}'.format(1/3))"
   ]
  },
  {
   "cell_type": "code",
   "execution_count": 44,
   "metadata": {},
   "outputs": [
    {
     "name": "stdout",
     "output_type": "stream",
     "text": [
      "d\n"
     ]
    }
   ],
   "source": [
    "if (7<0) and (0<-7):\n",
    "    print ('x')\n",
    "elif (7>0) or False :\n",
    "    print ('d')\n",
    "else :\n",
    "    print ('t')"
   ]
  },
  {
   "cell_type": "code",
   "execution_count": null,
   "metadata": {},
   "outputs": [],
   "source": []
  }
 ],
 "metadata": {
  "kernelspec": {
   "display_name": "Python 3",
   "language": "python",
   "name": "python3"
  },
  "language_info": {
   "codemirror_mode": {
    "name": "ipython",
    "version": 3
   },
   "file_extension": ".py",
   "mimetype": "text/x-python",
   "name": "python",
   "nbconvert_exporter": "python",
   "pygments_lexer": "ipython3",
   "version": "3.7.3"
  }
 },
 "nbformat": 4,
 "nbformat_minor": 2
}
