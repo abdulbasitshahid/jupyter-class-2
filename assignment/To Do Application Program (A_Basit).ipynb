{
 "cells": [
  {
   "cell_type": "code",
   "execution_count": 3,
   "metadata": {},
   "outputs": [
    {
     "name": "stdout",
     "output_type": "stream",
     "text": [
      "Daily Task ['awake', 'assignment', 'prayer', 'recite quran', 'call', 'aftar', 'taravee']\n",
      "Enter completed any task = taravee\n",
      "Remaining dailytask =  ['awake', 'assignment', 'prayer', 'recite quran', 'call', 'aftar']\n",
      "Enter completed any task = aftar\n",
      "Remaining dailytask =  ['awake', 'assignment', 'prayer', 'recite quran', 'call']\n",
      "Enter completed any task = call\n",
      "Remaining dailytask =  ['awake', 'assignment', 'prayer', 'recite quran']\n",
      "Enter completed any task = recite quran\n",
      "Remaining dailytask =  ['awake', 'assignment', 'prayer']\n",
      "Enter completed any task = prayer\n",
      "Remaining dailytask =  ['awake', 'assignment']\n",
      "Enter completed any task = assignment\n",
      "Remaining dailytask =  ['awake']\n",
      "Enter completed any task = awake\n",
      "Remaining dailytask =  []\n",
      "No task left\n"
     ]
    }
   ],
   "source": [
    "dailytask=['awake','assignment','prayer','recite quran','call','aftar','taravee']\n",
    "completedtask=[]\n",
    "print ('Daily Task',dailytask)\n",
    "while len(dailytask)>0:\n",
    "    \n",
    "    x=input('Enter completed any task = ').lower()\n",
    "    if x in dailytask:\n",
    "        poppedvalue=dailytask.index(x)\n",
    "        poppedlist=dailytask.pop(poppedvalue)\n",
    "        completedtask.append(poppedlist)\n",
    "        print('Remaining dailytask = ',dailytask)\n",
    "    \n",
    "    else:\n",
    "        print('Task is not present in to do list')\n",
    "if len(dailytask)==0:\n",
    "    print('No task left')"
   ]
  },
  {
   "cell_type": "code",
   "execution_count": null,
   "metadata": {},
   "outputs": [],
   "source": []
  },
  {
   "cell_type": "code",
   "execution_count": null,
   "metadata": {},
   "outputs": [],
   "source": []
  }
 ],
 "metadata": {
  "kernelspec": {
   "display_name": "Python 3",
   "language": "python",
   "name": "python3"
  },
  "language_info": {
   "codemirror_mode": {
    "name": "ipython",
    "version": 3
   },
   "file_extension": ".py",
   "mimetype": "text/x-python",
   "name": "python",
   "nbconvert_exporter": "python",
   "pygments_lexer": "ipython3",
   "version": "3.7.3"
  }
 },
 "nbformat": 4,
 "nbformat_minor": 2
}
